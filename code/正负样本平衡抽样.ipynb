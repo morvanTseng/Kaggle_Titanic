{
 "cells": [
  {
   "cell_type": "code",
   "execution_count": 1,
   "metadata": {},
   "outputs": [],
   "source": [
    "from sklearn.model_selection import train_test_split\n",
    "import pandas as pd\n",
    "import seaborn as sb\n",
    "import numpy as np\n",
    "import os\n",
    "import sys\n",
    "import warnings \n",
    "warnings.filterwarnings('ignore')\n",
    "import matplotlib.pyplot as plt\n",
    "from IPython.core.interactiveshell import InteractiveShell\n",
    "InteractiveShell.ast_node_interactivity = \"all\"\n",
    "import logging\n",
    "logging.basicConfig(format='%(asctime)s:%(levelname)s:%(message)s',level=logging.INFO)\n",
    "from sklearn.tree import DecisionTreeClassifier\n",
    "from sklearn.model_selection import cross_val_score\n",
    "from sklearn.base import BaseEstimator,ClassifierMixin,TransformerMixin,clone\n",
    "from sklearn.model_selection import KFold\n",
    "from sklearn.ensemble import RandomForestClassifier,GradientBoostingClassifier,AdaBoostClassifier\n",
    "import xgboost as xgb\n",
    "from sklearn.ensemble import VotingClassifier"
   ]
  },
  {
   "cell_type": "code",
   "execution_count": 2,
   "metadata": {},
   "outputs": [
    {
     "data": {
      "text/plain": [
       "'C:\\\\Users\\\\perma\\\\Documents\\\\GitHub\\\\Kaggle_Titanic\\\\code'"
      ]
     },
     "execution_count": 2,
     "metadata": {},
     "output_type": "execute_result"
    }
   ],
   "source": [
    "cwd=os.getcwd()\n",
    "cwd"
   ]
  },
  {
   "cell_type": "code",
   "execution_count": 3,
   "metadata": {},
   "outputs": [],
   "source": [
    "#split training set into train_1 which consists of all the survival,train_0 which consists of all the dead\n",
    "train_path=os.path.join(os.path.dirname(cwd),\"data/train_raw.csv\")\n",
    "test_path=os.path.join(os.path.dirname(cwd),\"data/test_raw.csv\")\n",
    "train=pd.read_csv(train_path,header=0)\n",
    "test=pd.read_csv(test_path,header=0)\n",
    "train_test={\"train\":train,\"test\":test}"
   ]
  },
  {
   "cell_type": "code",
   "execution_count": 4,
   "metadata": {},
   "outputs": [],
   "source": [
    "#get Family_Size\n",
    "for key in train_test:\n",
    "    data=train_test[key]\n",
    "    data[\"Family_Size\"]=data['SibSp']+data[\"Parch\"]+1"
   ]
  },
  {
   "cell_type": "code",
   "execution_count": 5,
   "metadata": {},
   "outputs": [],
   "source": [
    "train_and_test=pd.concat([train,test],ignore_index=True)"
   ]
  },
  {
   "cell_type": "code",
   "execution_count": 6,
   "metadata": {},
   "outputs": [],
   "source": [
    "family_survival=train[[\"Ticket\",\"Survived\"]].groupby(by=[\"Ticket\"]).mean()\n",
    "train_and_test[\"Family_Survival\"]=\"median\"\n",
    "for index in train_and_test.index:\n",
    "    if(train_and_test.loc[index,\"Family_Size\"]>1):\n",
    "        ticket=train_and_test.loc[index,\"Ticket\"]\n",
    "        if(ticket in family_survival.index):\n",
    "            survival=family_survival.loc[ticket]\n",
    "            if(survival.values>0.5):\n",
    "                train_and_test.loc[index,\"Family_Survival\"]=\"high\"\n",
    "            elif(survival.values<0.5):\n",
    "                train_and_test.loc[index,\"Family_Survival\"]=\"low\""
   ]
  },
  {
   "cell_type": "code",
   "execution_count": 7,
   "metadata": {},
   "outputs": [],
   "source": [
    "train[\"Family_Survival\"]=train_and_test.loc[0:890,\"Family_Survival\"].values\n",
    "test[\"Family_Survival\"]=train_and_test.loc[891:,\"Family_Survival\"].values\n",
    "def get_dummies(df,*features):\n",
    "    logging.info(\"---------------get_dummies-------------------\")\n",
    "    for feature in features:\n",
    "        logging.info(\"{}:start\".format(feature))\n",
    "        dummies=pd.get_dummies(df[feature],prefix=feature)\n",
    "        df=df.join(dummies)\n",
    "        df.drop(feature,inplace=True,axis=1)\n",
    "        logging.info(\"{}:done\".format(feature))\n",
    "    return df       "
   ]
  },
  {
   "cell_type": "code",
   "execution_count": 8,
   "metadata": {},
   "outputs": [
    {
     "name": "stderr",
     "output_type": "stream",
     "text": [
      "2018-11-18 12:08:09,187:INFO:---------------get_dummies-------------------\n",
      "2018-11-18 12:08:09,191:INFO:Sex:start\n",
      "2018-11-18 12:08:09,196:INFO:Sex:done\n",
      "2018-11-18 12:08:09,196:INFO:Embarked:start\n",
      "2018-11-18 12:08:09,201:INFO:Embarked:done\n",
      "2018-11-18 12:08:09,202:INFO:Family_Survival:start\n",
      "2018-11-18 12:08:09,207:INFO:Family_Survival:done\n",
      "2018-11-18 12:08:09,208:INFO:---------------get_dummies-------------------\n",
      "2018-11-18 12:08:09,208:INFO:Sex:start\n",
      "2018-11-18 12:08:09,213:INFO:Sex:done\n",
      "2018-11-18 12:08:09,213:INFO:Embarked:start\n",
      "2018-11-18 12:08:09,218:INFO:Embarked:done\n",
      "2018-11-18 12:08:09,219:INFO:Family_Survival:start\n",
      "2018-11-18 12:08:09,223:INFO:Family_Survival:done\n"
     ]
    }
   ],
   "source": [
    "feature_to_dummies=[\"Sex\",\"Embarked\",\"Family_Survival\"]\n",
    "for key in train_test:\n",
    "    data=train_test[key]\n",
    "    data=get_dummies(data,*feature_to_dummies)\n",
    "    train_test[key]=data"
   ]
  },
  {
   "cell_type": "code",
   "execution_count": 9,
   "metadata": {},
   "outputs": [],
   "source": [
    "features=[  'Pclass', 'Age', 'SibSp', 'Parch', 'Fare',  'Family_Size', 'Sex_female', 'Sex_male',\\\n",
    "          'Embarked_C', 'Embarked_Q', 'Embarked_S', 'Family_Survival_high',\\\n",
    "       'Family_Survival_low', 'Family_Survival_median']"
   ]
  },
  {
   "cell_type": "code",
   "execution_count": 10,
   "metadata": {},
   "outputs": [
    {
     "data": {
      "text/plain": [
       "(891, 14)"
      ]
     },
     "execution_count": 10,
     "metadata": {},
     "output_type": "execute_result"
    },
    {
     "data": {
      "text/plain": [
       "(891,)"
      ]
     },
     "execution_count": 10,
     "metadata": {},
     "output_type": "execute_result"
    }
   ],
   "source": [
    "X=train_test[\"train\"][features].values\n",
    "y=train_test[\"train\"][\"Survived\"].values\n",
    "X.shape\n",
    "y.shape"
   ]
  },
  {
   "cell_type": "code",
   "execution_count": 11,
   "metadata": {},
   "outputs": [],
   "source": [
    "from random import shuffle"
   ]
  },
  {
   "cell_type": "code",
   "execution_count": 12,
   "metadata": {},
   "outputs": [],
   "source": [
    "train0_index=train.loc[train[\"Survived\"]==0].index\n",
    "train1_index=train.loc[train[\"Survived\"]==1].index"
   ]
  },
  {
   "cell_type": "code",
   "execution_count": 13,
   "metadata": {},
   "outputs": [],
   "source": [
    "# how many times we are gonna do this\n",
    "balanced_resample_time=20\n",
    "sample_sets=[]\n",
    "for i in range(balanced_resample_time):\n",
    "    index1,index2=train_test_split(train0_index,train_size=350,shuffle=True)\n",
    "    train_index=np.hstack((index1,train1_index))\n",
    "    shuffle(train_index)\n",
    "    sample_sets.append(train_index)"
   ]
  },
  {
   "cell_type": "code",
   "execution_count": 14,
   "metadata": {},
   "outputs": [],
   "source": [
    "class Voter:\n",
    "    def __init__(self):\n",
    "        logging.info(\"A Voter has been created\")\n",
    "    def vote(self,array):\n",
    "        array=np.array(array)\n",
    "        return np.argmax(np.bincount(array))\n",
    "        "
   ]
  },
  {
   "cell_type": "code",
   "execution_count": 15,
   "metadata": {},
   "outputs": [],
   "source": [
    "n_estimators=10"
   ]
  },
  {
   "cell_type": "code",
   "execution_count": 24,
   "metadata": {},
   "outputs": [
    {
     "data": {
      "text/plain": [
       "'score:0.8510973084886129'"
      ]
     },
     "execution_count": 24,
     "metadata": {},
     "output_type": "execute_result"
    },
    {
     "data": {
      "text/plain": [
       "'score:0.8641614906832299'"
      ]
     },
     "execution_count": 24,
     "metadata": {},
     "output_type": "execute_result"
    },
    {
     "data": {
      "text/plain": [
       "'score:0.851055900621118'"
      ]
     },
     "execution_count": 24,
     "metadata": {},
     "output_type": "execute_result"
    },
    {
     "data": {
      "text/plain": [
       "'score:0.8684679089026914'"
      ]
     },
     "execution_count": 24,
     "metadata": {},
     "output_type": "execute_result"
    },
    {
     "data": {
      "text/plain": [
       "'score:0.8626293995859212'"
      ]
     },
     "execution_count": 24,
     "metadata": {},
     "output_type": "execute_result"
    },
    {
     "data": {
      "text/plain": [
       "'score:0.8570393374741201'"
      ]
     },
     "execution_count": 24,
     "metadata": {},
     "output_type": "execute_result"
    },
    {
     "data": {
      "text/plain": [
       "'score:0.8540786749482402'"
      ]
     },
     "execution_count": 24,
     "metadata": {},
     "output_type": "execute_result"
    },
    {
     "data": {
      "text/plain": [
       "'score:0.8511801242236026'"
      ]
     },
     "execution_count": 24,
     "metadata": {},
     "output_type": "execute_result"
    },
    {
     "data": {
      "text/plain": [
       "'score:0.8555486542443063'"
      ]
     },
     "execution_count": 24,
     "metadata": {},
     "output_type": "execute_result"
    },
    {
     "data": {
      "text/plain": [
       "'score:0.8612836438923395'"
      ]
     },
     "execution_count": 24,
     "metadata": {},
     "output_type": "execute_result"
    },
    {
     "data": {
      "text/plain": [
       "'score:0.868488612836439'"
      ]
     },
     "execution_count": 24,
     "metadata": {},
     "output_type": "execute_result"
    },
    {
     "data": {
      "text/plain": [
       "'score:0.8525879917184266'"
      ]
     },
     "execution_count": 24,
     "metadata": {},
     "output_type": "execute_result"
    },
    {
     "data": {
      "text/plain": [
       "'score:0.8614285714285715'"
      ]
     },
     "execution_count": 24,
     "metadata": {},
     "output_type": "execute_result"
    },
    {
     "data": {
      "text/plain": [
       "'score:0.8626915113871636'"
      ]
     },
     "execution_count": 24,
     "metadata": {},
     "output_type": "execute_result"
    },
    {
     "data": {
      "text/plain": [
       "'score:0.8685093167701863'"
      ]
     },
     "execution_count": 24,
     "metadata": {},
     "output_type": "execute_result"
    },
    {
     "data": {
      "text/plain": [
       "'score:0.8526293995859213'"
      ]
     },
     "execution_count": 24,
     "metadata": {},
     "output_type": "execute_result"
    },
    {
     "data": {
      "text/plain": [
       "'score:0.8598136645962733'"
      ]
     },
     "execution_count": 24,
     "metadata": {},
     "output_type": "execute_result"
    },
    {
     "data": {
      "text/plain": [
       "'score:0.8541614906832298'"
      ]
     },
     "execution_count": 24,
     "metadata": {},
     "output_type": "execute_result"
    },
    {
     "data": {
      "text/plain": [
       "'score:0.8554658385093168'"
      ]
     },
     "execution_count": 24,
     "metadata": {},
     "output_type": "execute_result"
    },
    {
     "data": {
      "text/plain": [
       "'score:0.8597101449275362'"
      ]
     },
     "execution_count": 24,
     "metadata": {},
     "output_type": "execute_result"
    }
   ],
   "source": [
    "for sample_set in sample_sets:\n",
    "    rf=RandomForestClassifier(10)\n",
    "    bg=GradientBoostingClassifier(n_estimators=10)\n",
    "    xg=xgb.XGBClassifier(10)\n",
    "    votingclassifier=VotingClassifier([('rf',rf),('bg',bg),(\"xg\",xg)])\n",
    "    scores=cross_val_score(estimator=votingclassifier,X=X[sample_set],y=y[sample_set],cv=10)\n",
    "    \"score:{}\".format(np.mean(scores))"
   ]
  },
  {
   "cell_type": "markdown",
   "metadata": {},
   "source": [
    "# conlusion\n",
    "although this is  not a balanced dataset for 549 dead cases and 342 survivals\n",
    "but after my exploration on this issue ,i found that balanced dataset in which each class has 50 percent doesnt help improving the \n",
    "algorithm performance."
   ]
  },
  {
   "cell_type": "code",
   "execution_count": null,
   "metadata": {},
   "outputs": [],
   "source": []
  }
 ],
 "metadata": {
  "kernelspec": {
   "display_name": "Python [conda root]",
   "language": "python",
   "name": "conda-root-py"
  },
  "language_info": {
   "codemirror_mode": {
    "name": "ipython",
    "version": 3
   },
   "file_extension": ".py",
   "mimetype": "text/x-python",
   "name": "python",
   "nbconvert_exporter": "python",
   "pygments_lexer": "ipython3",
   "version": "3.6.5"
  }
 },
 "nbformat": 4,
 "nbformat_minor": 2
}
